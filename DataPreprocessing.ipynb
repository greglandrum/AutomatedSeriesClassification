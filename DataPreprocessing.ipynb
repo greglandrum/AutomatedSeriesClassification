{
 "cells": [
  {
   "cell_type": "markdown",
   "metadata": {},
   "source": [
    "## Preprocessing of the dataset by Bradley et al."
   ]
  },
  {
   "cell_type": "code",
   "execution_count": 2,
   "metadata": {},
   "outputs": [
    {
     "name": "stdout",
     "output_type": "stream",
     "text": [
      "RDKit version:  2020.03.4\n",
      "Pandas version: 1.0.3\n",
      "Numpy version: 1.19.0\n",
      "MatplotLib version: 3.2.2\n"
     ]
    }
   ],
   "source": [
    "import sys, os, re\n",
    "import pandas as pd\n",
    "import numpy as np\n",
    "from rdkit import Chem, rdBase\n",
    "from rdkit.Chem import rdFMCS, Draw, PandasTools, rdDepictor, Descriptors\n",
    "from rdkit.Chem.Draw import IPythonConsole, rdMolDraw2D\n",
    "from IPython.display import SVG\n",
    "try:\n",
    "    import arthor\n",
    "except ImportError:\n",
    "    arthor = None\n",
    "    \n",
    "import matplotlib as mpl\n",
    "from matplotlib import rcParams\n",
    "import matplotlib.pyplot as plt\n",
    "import ast\n",
    "import random\n",
    "from ipywidgets import interact,fixed,IntSlider\n",
    "\n",
    "print('RDKit version: ',rdBase.rdkitVersion)\n",
    "print('Pandas version:', pd.__version__)\n",
    "print('Numpy version:', np.__version__)\n",
    "print('MatplotLib version:', mpl.__version__)\n",
    "# print('Arthor version:', arthor.__version__)"
   ]
  },
  {
   "cell_type": "code",
   "execution_count": 3,
   "metadata": {},
   "outputs": [],
   "source": [
    "from automated_series_classification import utilsStructureEval, utilsDrawing"
   ]
  },
  {
   "cell_type": "markdown",
   "metadata": {},
   "source": [
    "### Load dataset by Bradley et al. and select all compounds which were synthesized and screened for this project (\"synscreen\")"
   ]
  },
  {
   "cell_type": "code",
   "execution_count": 4,
   "metadata": {},
   "outputs": [],
   "source": [
    "proj='CDK2Kinase'"
   ]
  },
  {
   "cell_type": "code",
   "execution_count": 6,
   "metadata": {},
   "outputs": [
    {
     "data": {
      "text/html": [
       "<div>\n",
       "<style scoped>\n",
       "    .dataframe tbody tr th:only-of-type {\n",
       "        vertical-align: middle;\n",
       "    }\n",
       "\n",
       "    .dataframe tbody tr th {\n",
       "        vertical-align: top;\n",
       "    }\n",
       "\n",
       "    .dataframe thead th {\n",
       "        text-align: right;\n",
       "    }\n",
       "</style>\n",
       "<table border=\"1\" class=\"dataframe\">\n",
       "  <thead>\n",
       "    <tr style=\"text-align: right;\">\n",
       "      <th></th>\n",
       "      <th>Smiles</th>\n",
       "      <th>mol_name</th>\n",
       "      <th>cdk2_ic50</th>\n",
       "      <th>cdk2_inhib</th>\n",
       "      <th>scaffold</th>\n",
       "      <th>sourcepool</th>\n",
       "      <th>cdk_act_bin_1</th>\n",
       "      <th>ID</th>\n",
       "    </tr>\n",
       "  </thead>\n",
       "  <tbody>\n",
       "    <tr>\n",
       "      <th>0</th>\n",
       "      <td>C#CC(/C=C/C)OC(=O)c(ccc1)c(c1)C(=O)O</td>\n",
       "      <td>mol_1</td>\n",
       "      <td>None</td>\n",
       "      <td>23.3</td>\n",
       "      <td>Scaffold_00</td>\n",
       "      <td>divscreen</td>\n",
       "      <td>0</td>\n",
       "      <td>0</td>\n",
       "    </tr>\n",
       "    <tr>\n",
       "      <th>1</th>\n",
       "      <td>C#CC(C)(C)N(CC1C)CC\\C1=N\\OC(=O)c2cc([N+]([O-])...</td>\n",
       "      <td>mol_2</td>\n",
       "      <td>None</td>\n",
       "      <td>20.5</td>\n",
       "      <td>Scaffold_00</td>\n",
       "      <td>divscreen</td>\n",
       "      <td>0</td>\n",
       "      <td>1</td>\n",
       "    </tr>\n",
       "    <tr>\n",
       "      <th>2</th>\n",
       "      <td>C#CC(C)(C)N(CN1)CNC1=S</td>\n",
       "      <td>mol_3</td>\n",
       "      <td>None</td>\n",
       "      <td>20.7</td>\n",
       "      <td>Scaffold_00</td>\n",
       "      <td>divscreen</td>\n",
       "      <td>0</td>\n",
       "      <td>2</td>\n",
       "    </tr>\n",
       "    <tr>\n",
       "      <th>3</th>\n",
       "      <td>C#CC(C)(C)N(CN1)C\\N=C/1SC</td>\n",
       "      <td>mol_4</td>\n",
       "      <td>None</td>\n",
       "      <td>1.9</td>\n",
       "      <td>Scaffold_00</td>\n",
       "      <td>divscreen</td>\n",
       "      <td>0</td>\n",
       "      <td>3</td>\n",
       "    </tr>\n",
       "    <tr>\n",
       "      <th>4</th>\n",
       "      <td>C#CC(C)(C)NC(=O)CN(c(c1)cccc1)[S](=O)(=O)c2ccc...</td>\n",
       "      <td>mol_5</td>\n",
       "      <td>None</td>\n",
       "      <td>19.8</td>\n",
       "      <td>Scaffold_00</td>\n",
       "      <td>divscreen</td>\n",
       "      <td>0</td>\n",
       "      <td>4</td>\n",
       "    </tr>\n",
       "  </tbody>\n",
       "</table>\n",
       "</div>"
      ],
      "text/plain": [
       "                                              Smiles mol_name cdk2_ic50  \\\n",
       "0               C#CC(/C=C/C)OC(=O)c(ccc1)c(c1)C(=O)O    mol_1      None   \n",
       "1  C#CC(C)(C)N(CC1C)CC\\C1=N\\OC(=O)c2cc([N+]([O-])...    mol_2      None   \n",
       "2                             C#CC(C)(C)N(CN1)CNC1=S    mol_3      None   \n",
       "3                          C#CC(C)(C)N(CN1)C\\N=C/1SC    mol_4      None   \n",
       "4  C#CC(C)(C)NC(=O)CN(c(c1)cccc1)[S](=O)(=O)c2ccc...    mol_5      None   \n",
       "\n",
       "  cdk2_inhib     scaffold sourcepool  cdk_act_bin_1  ID  \n",
       "0       23.3  Scaffold_00  divscreen              0   0  \n",
       "1       20.5  Scaffold_00  divscreen              0   1  \n",
       "2       20.7  Scaffold_00  divscreen              0   2  \n",
       "3        1.9  Scaffold_00  divscreen              0   3  \n",
       "4       19.8  Scaffold_00  divscreen              0   4  "
      ]
     },
     "execution_count": 6,
     "metadata": {},
     "output_type": "execute_result"
    }
   ],
   "source": [
    "df = pd.read_excel('./data/jm020472j_s2.xls'.format(proj))\n",
    "df['ID']=df.index\n",
    "df.head()"
   ]
  },
  {
   "cell_type": "code",
   "execution_count": 7,
   "metadata": {},
   "outputs": [
    {
     "name": "stderr",
     "output_type": "stream",
     "text": [
      "/Users/cthoyt/.virtualenvs/integrator/lib/python3.8/site-packages/rdkit/Chem/PandasTools.py:416: SettingWithCopyWarning: \n",
      "A value is trying to be set on a copy of a slice from a DataFrame.\n",
      "Try using .loc[row_indexer,col_indexer] = value instead\n",
      "\n",
      "See the caveats in the documentation: https://pandas.pydata.org/pandas-docs/stable/user_guide/indexing.html#returning-a-view-versus-a-copy\n",
      "  frame[molCol] = frame[smilesCol].map(Chem.MolFromSmiles)\n"
     ]
    },
    {
     "data": {
      "text/html": [
       "<div>\n",
       "<style scoped>\n",
       "    .dataframe tbody tr th:only-of-type {\n",
       "        vertical-align: middle;\n",
       "    }\n",
       "\n",
       "    .dataframe tbody tr th {\n",
       "        vertical-align: top;\n",
       "    }\n",
       "\n",
       "    .dataframe thead th {\n",
       "        text-align: right;\n",
       "    }\n",
       "</style>\n",
       "<table border=\"1\" class=\"dataframe\">\n",
       "  <thead>\n",
       "    <tr style=\"text-align: right;\">\n",
       "      <th></th>\n",
       "      <th>Smiles</th>\n",
       "      <th>mol_name</th>\n",
       "      <th>cdk2_ic50</th>\n",
       "      <th>cdk2_inhib</th>\n",
       "      <th>scaffold</th>\n",
       "      <th>sourcepool</th>\n",
       "      <th>cdk_act_bin_1</th>\n",
       "      <th>ID</th>\n",
       "      <th>Molecule</th>\n",
       "    </tr>\n",
       "  </thead>\n",
       "  <tbody>\n",
       "    <tr>\n",
       "      <th>29</th>\n",
       "      <td>C#CCNc(cc1)nc(n1)NC(C)(C)C(=O)OC</td>\n",
       "      <td>mol_30</td>\n",
       "      <td>None</td>\n",
       "      <td>53.17</td>\n",
       "      <td>Scaffold_05</td>\n",
       "      <td>synscreen</td>\n",
       "      <td>100</td>\n",
       "      <td>29</td>\n",
       "      <td><img data-content=\"rdkit/molecule\" src=\"data:image/png;base64,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\" alt=\"Mol\"/></td>\n",
       "    </tr>\n",
       "    <tr>\n",
       "      <th>30</th>\n",
       "      <td>C#CCNc(n1)c(C)cnc1Nc(cc2C)c(Cl)cc2</td>\n",
       "      <td>mol_31</td>\n",
       "      <td>None</td>\n",
       "      <td>54.76</td>\n",
       "      <td>Scaffold_05</td>\n",
       "      <td>synscreen</td>\n",
       "      <td>100</td>\n",
       "      <td>30</td>\n",
       "      <td><img data-content=\"rdkit/molecule\" src=\"data:image/png;base64,iVBORw0KGgoAAAANSUhEUgAAAMgAAADICAYAAACtWK6eAAAWMUlEQVR4nO3de1SUZR4H8O9wExADARHWSNM9gkqhYCgOQsoo4KVdL2yh6WYd7bRntdy1WGs7peWlzWrN3Uo7blbb0bSDmqIiKHJTE1RCNMpbaV4QVFCBAobv/jHLKEpPBTPzMvD7nOPJmWbe5/eO853nvT3PqyNJCCGa5aB1AUK0ZRIQIRQkIEIoSECEUJCACKEgARFCQQIihIIERAgFCYgQChIQIRQkIEIoSECEUJCACKEgARFCQQIihIIERAgFCYgQChIQIRQkIEIoSECEUJCACKEgARFCQQIihIIERAgFCYgQChIQIRQkIEIoSECEUJCACKEgARFCQQIihIIERAgFCYgQChIQIRQkIEIoSECEUJCACKEgARFCQQIihIIERAgFCYgQChIQIRQkIEIoSECEUJCACKEgARFCQQIihIIERAgFCYgQChIQIRQkIEIoSECEUJCACKEgARFCQQIihIIERAgFCYgQChIQIRQkIEIoSEA6oKKiIpSWlmpdhl2QgHQwR48eRWxsLFavXq11KXZBR5JaFyFs48SJE4iOjkZcXBxWr14NBwf5ffw5EpAO4syZM4iJicEDDzyAtWvXwtHRUeuS7IIEpAM4d+4coqOjERoaivXr18PJyUnrkuyGBKSdu3TpEkaMGIHAwEBs3rwZnTp10rokuyIBaccqKiowcuRIeHt7Y+vWrXB1ddW6JLsjAWmnKisrYTAY4OLigrS0NHh4eGhdkl2SwxjtUHV1NcaPHw+j0YjU1FQJRytotrd29OhRlJSUYNKkSVqVoLklS5YgNTUVbm5u0Ov1iIqKwvDhw1u1n1BTU4Nx48ahsrISmZmZ8PLyslzBHZBmPUhhYSFmz56NjrqF98Ybb+DVV1/F5MmTERERgYyMDIwdOxa+vr6Ij4/H4sWLkZeXh9ra2l+8zNraWiQmJuL8+fPYuXMnvL29rbgGHQQ1cvnyZTo6OvLw4cNalaCZ5cuX083Njbt3727yfFVVFXNycrh06VIaDAa6urrS3d2der2eycnJTE9PZ01NTbPLrK+vZ2JiIn/729/y3LlztliNDkGzgJBkZGQkFy1apGUJNrd69Wp26tSJW7duNT/3ww8/NPvauro6FhQUmAPj5uZGJycnhoeHmwNTXV3N+vp6JiUlMTAwkKdPn7bRmnQMmgZk4cKFjIqK0rIEm/rwww/p7OzMTz/9tMnzPXv2ZO/evTlr1iyuX7+eZWVlzb7/hx9+YHZ2NhcuXMjY2Fi6u7uzU6dODAsLY0BAAE+cOGGL1ehQNA1IQUEBHR0dWV5ermUZNrFuHTls2DmuXbv2jv935MgRrlixgomJifTz86NOp2NISAj//Oc/c/369SwtLW12mbW1tczNzaVer+djjz1m7VXokDQNSENDA3/zm980+6VpTzZtIl1cyFWrftnrT548yQ8//JCzZs3iPffcQwDs3bs3p02bxpUrV/K7775r8vr333+f9957rxUqF5oGhCRnzJjB6dOna12G1ezcSbq6kv/+d8uXUVJSwpUrV3Lq1Kns0aMHATAoKIhHjhwhSZ4/f546nY4lJSUWqlo00jwg69evZ7du3Wg0GrUuxeJyc8nOncmlSy273OPHj3P16tW8du2a+bmBAwfyzTfftGxDgppfanLt2jX4+voiNzcXERERWpbSYvn5QGUlYDCYHn/6KdC/PzBsGPDcc8CLL1q/hhdeeAH5+fnYuXOn9RvrQDS/1OSuu+7CsGHDsG3bNq1LabGMDGDSJODcOdPj5cuBoCBg1SrbhAMAEhISkJWVhevXr9umwQ5C84AApn/c7du3a11Gqzz+ODBnzs3HLi5AUpLt2o+MjESXLl2we/du2zXaAbSJgIwZMwYFBQV2PZHAiBGApyewZYs27Ts6OmLUqFF2/0PT1rSJgNx3330IDAxEWlqa1qW0yrJlwMKFQE2NNu0nJCQgNTW1w17fZg1tIiAAEB8fb9e/fjod4O0NzJ0LaLUbkJCQgPPnz6O4uFibAtohzY9iNdq8eTNmzJiBS5cuyZjpVhgyZAgmTpyI5ORkrUtpF9pMD2IwGFBdXY39+/drXYpdaw8HPNqSNtODAMCwYcPg7e2N2bNnQ6/Xy0i4Fjhw4AD0ej3KyspksJQFtJkeZPPmzTh48CCuXr2KxMREdO3aFZGRkfjb3/6Gbdu22c3x/dpa4NChps/V1dmu/cGDB8PHxwfp6em2a7QdaxMBSU9PxyOPPIK33noLeXl5uHr1KgoLCzFjxgycOnUK06ZNQ9euXTFgwAA8+eST2LBhA65cuaJ12c3av990Bv3GDdPjZcuACRNs176DgwPi4uJkM8tSNLzMhSSZm5vLzp0787XXXvvJ1xiNRhYXF3PlypVMTEykj48PHRwc2L9/f/MYirZyyXx9PentTX7+uenxrl2kmxtZXW3ddrOzs3ny5EmS5Nq1a+nv78+GhgbrNtoBaBqQffv2sUuXLnzllVfMz6WlpbGoqEj5PqPRyMLCQi5fvpwTJ06kr68vHRwcGBoayjlz5jAzM9PKlav94Q/kU0+Z/l5bS3p6ktu3W6+9vXv30sPDg2+99RZJ8sqVK3RycuKmTZus12gHoVlADh8+zK5du/Ivf/mL+bndu3fTzc2N//rXv37VshoaGpoMOho8eDCzsrIsXfIv9sEHZGDgzccTJpBz5linrcLCQnp7e3Pu3Lnm5zIzM9m9e3cCYI8ePThlyhSuXLnyV10Of+AAmZ5+8/G6dWRBAfnVVzef+/hjS6xB26ZJQIqKiujj48M5t3xrGnuTV199tdXLf+ihh5p8YWyttJR0cCCLi02P33+fHDLke4u3U1JSwu7du3P27Nnm527tlS9cuMB169bxqaeeYv/+/anT6ejv78+kpCS++24djx4lf2orbPFi8q67yO//X3ZkJPn6601Dcf/9Fl+lNsfmAfnmm28YEBDAxx9/3LyN3Nib/PWvf23xchsaGsyTH7z77rsMCgqySL0tNXRoHVesMH27vv/+InU6Hb/++muLLb+khBw3LoMzZ86843O8tVe+VWlpKTds2MDk5FcYEkLqdKSfHzl5MrliBXnkyM3ALF5MPvMMOXGi6XFjQF58kczLM/3p399iq9Nm2TQg3333HXv27Mlp06aZB0g115u0RFxcHJctW0aSPHPmDAHw+PHjra65pV56aQEffPBB8+PQ0FDzPkJrnTxJ3n03+eijpNFo+kY3fo639iY/p6yMTEkhn36aDA019Xq+vuTFi6aAbN5MzphhOuDQGJAJE8gFC0x/+va1yOq0aTYLyNmzZ3nvvfdy4sSJrKurI2nqTfz9/Zv0Ji3197//nbGxsebHISEhfPvtt1u1zNbYt28fnZ2dWVFRQZKcP38+R48e3erlnj1L9u5t+qL+/2Pk119X0t8/gLNmzWrV53jlCtk4G1FjQC5fJgcPJgcOlE0sqyktLWVwcDDj4+PNm0GNvcn06dMtMtw2Ly+PLi4u5mGozz33HBMSElq93JYyGo308/PjZ599RtJ0GLZTp068fv16i5dZWkr260fGxZGNU2k19ibJyUctOmx58eKbh6o/+YTs00cCYhVlZWUcMGAADQaDeVbAxt5k0qRJ5t6kterr6+nj48OUlBSSpiM5rq6urKqqssjyW+LRRx/lE088QdI0CdygQYN+9hC2SkkJOW0a2Ti5YmNvMnHizd5EWJZVA1JRUcHw8HDq9XreuHGD5M3e5He/+x1ra2st2t6UKVM4c+ZMkqYvpJeXV5MZDG3tk08+YUBAgFVO2DX2JvHxN3sTYXlWvdRkxowZcHZ2xvbt29G5c2eUl5dj5MiRCAwMxLp16+Ds7GzR9hISErB161aQhJOTEwwGg6aXXIwePRplZWV46aWXUFxcbLGBTOXlQGws0KMHsHEjIDeNsiJrJa9xk2fjxo0kTb/oYWFhfPDBB1ltpesuysrK6OjoyMLCQpLkf/7zH80mVGtoaOCsWbPo7+/P+++/nw4ODvT19eWECRP4z3/+k4WFhb9on6G5E3ZPPEFGR5O22nq8coU8dco2bbU1Vt3EGj9+fJNj8lu2bGnVTuovMXToUC5ZsoQkeeHCBep0Oh47dsyqbTbn2WefpZeXFw8dOkTSdPnH5s2bOXfuXIaHh9PR0ZF9+8bwoYfIN980naWur79zOc2dsKusJG+ZEsvq5sy5eT6ko7FqQN555x0GBwdbs4k7LFiwgNHR0ebH4eHh5vMjtvL888/T09OT+fn5P/maiooK7thRxHnzyIgI0snJdM3WuHGmo0VffEEajc2fsLO17dtJD4+Oua9j1YA0nrCz5azj+fn5dHR05OXLl0mSL774YpPzI9a2fHkhPTw8uHfv3l/1vhs3TJtSL71EGgymK4Jra5s/YWdrNTWku7vpyuSOxuqHeQcMGMAVK1ZYuxmzhoYG+vv7m28xsHfv3iYn7Kxp2TLTpe05ORdavawffzT9t7kTdloYO5acN0+btrVk9QFTY8aMsemRJJ1O12TAUEREBDw9Pa0+odrq1cALLwAbNgBRUf6tXp6Ly82/t40ZUwA7nvyy5aydwMZL2G15wm7dunX08/MzHyWaOnWq+fyINaxZQzo7k+vXW60JzZ0+TXbp0sDTp617kKWtsXoPEhUVBRcXF2RlZVm7KbO4uDjU1NTgxIkTAJqeH7G0q1eBefOAjz8GEhMtvvg2o1cvoFevcGzb9pHWpdiU1QPi7Oxs8xN2Xl5euHz5Mvr27QsACA4OhrOzMxISErBs2TIcOHAA9fX1Fmmra1fg+HHg4Yctsrg2bfTokR1urLtNJm1o/AW3pcaz9GfPnsXkyZPRr18/DBo0CCkpKdDr9fD29saYMWOwdOlS7N+fj5/LS36+aRb3Rp9+Chw8CJSUAI2z6/z3v9ZZl7YiISEBu3btQo1Wc6tqwRbbcVrdAam5q4jJO2+3PGTIWLq7k3o9mZxsOtx6+92WZYSd6Z6Inp6e3G7NAfZtjE16kICAAISGhtr0HiCN133dfffd2LhxIzrdcsGSu7s7oqKikJycjPT0dGRmbsXnn5uub9q3Dxg/HvDxMd0QZ9Gim8u8/RYHAPDNN8DevaY/Ftpqa7OcnZ0xcmTH2syy2bxYtjzcW1lZifj4eHh5eWHTpk1wdXVVvt7NzRSOBQuArCzTjve2bcDw4cCZMzdf19wtDoqLTZteGRntPyCA6d9xy5YtSElJQXl5udblWJ3Nph7Nzc1FbGwsysvL0aVLFwDApUuX4OfnZ9F2qqqqEB8fj/r6euzcudPcVmstWQIMGABERQFxcaYwTJ0K+PsDjz5qek1oKPDllxZprs2qqanBa6+9hvfeew+XLl3CgAEDEBMTg5iYGERHR6N79+6/epkVFRVwcnJqk1PN2qwHae4OSIMGDUKPHj0wdepUrFq1CiUlJa1qo7q6GuPGjcP169eRmppqsXA0agsn7LTm5uaGl19+GRcvXsSJEyfw7LPPoq6uDvPmzYO/vz/69OmD6dOnY9WqVThza/er8M4776Br164YOnQokpOTkZqaimvXrll5TX4Zm05enZSUBE9PT7z33nsATD3IF198gby8PGRkZODQoUPo1q0bIiIiEBUVBYPBgLCwMOh0up9ddm1tLX7/+9/j7NmzyMzMhK+vr7VXR9zm1KlTyM3NRV5eHnbu3Ilvv/0WvXv3hl6vR1RUFEaPHo1evXrd8T6j0YiSkhLz92DXrl2orKxEUFCQ+XswcuRI+Pj42HydbBqQjz76CPPnz8epU6ea7DQ3Kisrw/79+80f1OHDh+Hj44MhQ4aYP6hBgwbBwaFpx1dXV4dJkyahpKQEWVlZCAgIsNUqCYWTJ08iKysLWVlZ2LNnD86cOYM+ffqYN8liYmLQs2fPO97X0NCAr776yvw9yMzMxJUrVxAcHGz+HowYMcI2P4K2PGRWXl7OsWPH0t3dnXq9nsnJyUxPTzePVb9dWVkZU1JS+PTTT3PgwIHmQUe3juuur6/nI488wnvuuYfffvutrVZFtMDp06e5Zs0aPvbYYwwPDycA9urVi3/84x/5wQcfmOcWvp3RaGRRURHffvttTpo0id26daODgwOfeeYZq9ds8/uD1NfX48svv0RGRgYyMjKQl5eHuro6hIaGwmAwwGAwQK/Xw83N7Y73Xr16FTk5ORg1ahTc3NxAEjNnzkRaWhqysrLQu3dvW66KaKULFy4gNzfXvFl26NAh+Pv7IyoqyrxZ1twmNkkcO3YMDQ0NuO+++6xao+Y30Lk1MLm5ucjJyUFVVZU5MHq9HtHR0fD09GzyPpL405/+hJSUFOzZswf9+vXTaA2EpVy8eBE5OTlNAtO9e3cMHz5cGRhr0jwgt2sMTOOHlJ6ejhs3biA0NNT8IY0aNQqLFi3CmjVrkJmZiZCQEK3LFi1QV1eHgoICPPDAA83el9KSB3Faqs0F5Hb19fUoKChAdnY2srKykJubi6qqKnh7e2PHjh0ICwvTukTRQkePHkVYWBicnZ0xbNgw8457REQEXG4dEPN/ly5dQnZ2NrKzs7Fnzx4UFxdj/vz5WHTr5Q4W1uYDcjuj0Yg33ngDr7/+OkpLS+84oiXsS01NDQ4ePGjuJXJzc6HT6RAWFmbuJaKiopq9GuLy5cuoq6uDv3/rB6j9FLsLCABcu3YNvr6+yMnJwZAhQ7QuR1hQaw7iWINdBgQARowYgZiYGLz88stalyKs6Mcff0R+fj727NmDrKws7Nu3Dx4eHrhw4YJNdtbtNiD/+Mc/8Nlnn+HAgQNalyJsqK6uDidPnkRwcLBN2rPbgBQXFyM0NBTnz59v0QVyQvwSdruHGxISgsDAQOxI26F1KaIds9uAAEBSahLSotK0LkO0Y3YdkMgekdhxbQfq2QFGKglN2HVAYu+KRQ1rsK9qn9aliHbKrgPS2aEzoj2isb2y44yRFrZl1wEBgATPBGyr7IhzYgpbsPuAjLlrDIpqinCu7pzWpYh2yO4D0te1L54PeB5GGrUuRbRDdnui8Fb5VfnYWLERQa5BmOA1AV/WfIkg1yD4OVl2xhTR8dh9D3Lsh2N48syTiPSIBAA8fOphfF7xOb6v/V7jykR7cOcoFTuz4eoGzPWbi/Ge4wEAIW4hWHtlrcZVifbC7nuQ4ppi9HO7Ody2v2t/6GC7IZmifbP7gNzvdj92VJqux6puqIbhuAENaNC4KtFe2P1O+nXjdUw5PQXXG66DJOZ2n4u8G3lI8k5CmLsMxxWtY/cBaVRprISno+fPv1CIX6HdBEQIa7D7fRAhrEkCIoSCBEQIBQmIEAoSECEUJCBCKEhAhFCQgAihIAERQkECIoSCBEQIBQmIEAoSECEUJCBCKEhAhFCQgAihIAERQkECIoSCBEQIBQmIEAoSECEUJCBCKEhAhFCQgAihIAERQkECIoSCBEQIBQmIEAoSECEUJCBCKEhAhFCQgAihIAERQkECIoSCBEQIBQmIEAoSECEUJCBCKEhAhFCQgAihIAERQkECIoSCBEQIBQmIEAoSECEUJCBCKEhAhFCQgAihIAERQkECIoSCBEQIBQmIEAoSECEUJCBCKEhAhFCQgAihIAERQuF/CJsTBdcXuEgAAAAASUVORK5CYII=\" alt=\"Mol\"/></td>\n",
       "    </tr>\n",
       "    <tr>\n",
       "      <th>31</th>\n",
       "      <td>C#CCNc(n1)cc(C)nc1Nc(cc2)c(CO)cc2C</td>\n",
       "      <td>mol_32</td>\n",
       "      <td>None</td>\n",
       "      <td>36.15</td>\n",
       "      <td>Scaffold_05</td>\n",
       "      <td>synscreen</td>\n",
       "      <td>50</td>\n",
       "      <td>31</td>\n",
       "      <td><img data-content=\"rdkit/molecule\" src=\"data:image/png;base64,iVBORw0KGgoAAAANSUhEUgAAAMgAAADICAYAAACtWK6eAAAVD0lEQVR4nO3deVBUV9oG8AcaWUWUZdBGxgQiRiksUBSwjcSQUiFQJFjtGpjU1IjfZCERkkiqRtEZKzFbDYxJRitjELUGTSvKEsRgVAIIymJVpNVoooGIolEIOmxC9/v90UMLxjki0Nxe3l8VBXTfPudtiqfvds69VkREYIw9kLXUBTBmzDggjAlwQBgT4IAwJsABYUyAA8KYAAeEMQEOCGMCHBDGBDggjAlwQBgT4IAwJsABYUyAA8KYAAeEMQEOCGMCHBDGBDggjAlwQBgT4IAwJsABYUyAA8KYAAeEMQEOCGMCHBDGBDggjAlwQBgT4IAwJsABYUyAA8KYAAeEMQEOCGMCHBDGBDggjAlwQBgT4IAwJsABYUyAA8KYAAeEMQEOCGMCHBDGBDggjAlwQBgT4IAwJsABYUyAA8KYAAeEMQEOCGMCHBDGBDggjAlwQBgT4IAwJsABYUyAA8KYAAeEMQEOiJHSaDR48cUXcfHiRalLsWgcECMlk8lQXV2NsrIyqUuxaBwQIxYaGoqTJ09KXYZF44AYsZCQEA6IxDggRiwkJARnzpzBf/7zH6lLsVgcECMWEBAAOzs71NbWSl2KxeKAGLFRo0YhKCiIN7MkxAExcryjLi0OiJELCQlBRUWF1GVYLA6IkQsJCcHVq1fR2NgodSkWiQNi5H7/+99DLpfzZpZEOCAmYNasWRwQiXBATACfMJQOB8QEhIaGorq6Gj09PVKXYnE4ICYgODgYnZ2dUKvVUpdicTggJsDZ2RlTp05FaWmp1KVYHA6ICfjhhx/Q2dmJlJQUzJ07FxkZGbh69arUZVkEDoiRO3PmDMLDwzF9+nRUVFTg2WefxbZt2+Dt7Y3g4GBs2LCBJ1UZkBURkdRFsAc7duwYnn/+eSQkJCAjIwPW1vc+z9RqNQoKCpCfn48TJ05g6tSpUCqVWLJkCaZNmyZh1WaGmFHKyckhBwcHSktL0z9WU1NDe/bsodu3b/db9vLly5Senk4KhYKsra3Jx8eHkpKSqLS0lLRa7QhXbl44IEboH/8gmj+/jrZv397v8d27d9P48ePJ3t6eoqOjKTMzk27evNlvmZ9//pm2bNlC8+fPJ5lMRj4+PvTmm29SVVXVSL4Fs8EBMSJaLVFaGpG9PdG+fQ9eRqPRUHV1NaWlpdHkyZNJJpORQqGg9PR0unLlSr9lb9y4QZ9//jlFRUXR7Nmzqba21vBvwszwPoiR0GiAl18GVCogLw+YO3dgr1Or1VCpVFCpVDh//jyCgoIQHR2NFStWwM/PT79ceHg4IiMjkZqaaqB3YJ74KNYIq6oCjhy59/vevUBXF7BsGZCfDxw/PvBwAIC/vz82bNgAtVqN7777DrGxscjNzcWUKVMwc+ZM/ShgHq4yOByQEXbkCLB4MdA7ej0jQxcQGxvg5Elg+vTBt+3v749169bh9OnT+PHHH5GQkIDx48cD4IAMFm9ijbD33gNu3AAaGoD9+4E5c4ATJwzf79WrV+Hl5YWGhgZ4e3sbvkMzwWsQCcyfD7i46DapRopcLoeXlxcqKytHrlMzYFYBaW9vl7qEAfvoI+CvfwU6OkauT97MenRmEZDu7m4kJCRgzpw58PX1xeuvv46ysjIY69ajlRXg6gqsWQPcuTNy/XJAHp3J74O0tbVhyZIlUKvVyM7OxsWLF6FSqXD48GHI5XLExsZCqVRizpw5/YZqWKKSkhJERkaitbUVo0aNkrock2DSAWlubkZMTAxaW1tRVFSEiRMn9nuuoKAAKpUKxcXFcHZ2RmRkJJRKJRYtWmSR/yBtbW0YO3YsTp06haCgIKnLMQkm+5FaX18PhUIBrVaLkpISTJw4EZWVlWhubgYAuLq6IiEhAfn5+WhubsYXX3wBAFi5ciXGjx+PhIQEqFQqtLW1Sfk2RpSTkxP8/f15R/0RmGRA1Go1nnrqKfj5+eHo0aNwc3NDXl4ennnmGRw4cOA3yzs6OiImJgY7d+5EU1MT/vWvf4GIkJiYCLlcjuXLl0OlUqG7u3tE38fp00DfOVAajeH75P2QR2TIcSzt7e3DPpq0oqKC3Nzc6KWXXqLu7m4iItqxYwfZ2trSxx9//EhtdXV10aFDh2jVqlXk5eVF//znP4e11odZv55o0SLdz2o1kbMzUXu7Yfvcvn07Pfnkk4btxIwYNCCpqank7e1NiYmJlJeXp/+HHqzc3FxycHCgtWvX6h/bvHkz2dnZUXZ29pDa/uyzzygwMHBIbTyqr74iGjtWN0jx7l0iBweisjLD9llXV0dWVlbU3Nxs2I7MhEED0tzcTF9++SXFx8eTk5MTubm5UXx8POXl5VFXV9cjtZWZmdlvLaHVaiklJYVGjx5Nhw8fHlR9t27douPHjxORbq6FTCajO3fuDKqtwbh5k8jKiuj773W/h4URPeJKcMC++eYb0mg0pNFoyMXFhb7++mvDdGRmRmy4e3t7O+Xl5VF8fDyNGTOGxo4dS0qlkrKysh76T9m7ltizZw8R6TaNli1bRp6enlRTUzPomg4fPkxjxowhjUZDd+/eJUdHRyopKRl0e4Ph60u0c6fu5zfeIFqyZPj72LRpE9nZ2emHu0dERNDGjRuHvyMzJMl8kM7OTiouLqakpCTy9PQkBwcHio6OpqysLPr111/1y2m1WkpOTu63lrhz5w4tXLiQHn/8cbpw4cKQ6mhpaSFra2tSq9VERDR37lz64IMPhtTmo1q5kujVV3X7aTk531NU1MvD1vaD1rK3b9+msLAw8vDw0P/NW1tbh61PcyP5hKnu7m4qLi6mP//5zzRhwgSys7Oj5557jrZt20ZxcXE0fvx4/SdfU1MTzZgxgwICAqixsXFY+p8yZQp98cUXRESUkpJCixcvHpZ2B2rbtmwKDQ0jIqJLly4RgGF5b52dRC+99AZ5enr2+/vNnDmTAgICKDs7m1avXq2foRgTE0OZmZl061bL/2zz1Cmi4uJ7v+/ZQ1RdTXTu3L3Hdu0aculGRfKA9KXRaKisrIySk5NJLpfT1KlT6ccffyQi3T/P5MmTaf78+cP6iZeQkECrV68mIqIvv/yS5HL5sLU9ECdPnqRRo0ZR+38PX3l6etLBgweH1GZrK1FEBNHChb/QDz/8QES6v5+fnx89/fTT/dbS989QDA4uJoWCKD2d6L4JivTuu0Rjxtx7PCyM6MMP+4di+vQhlW50jCogfX377bdkb2+v35lftWoVLV269JF37h/m008/1R+9qq+vJwC/mbpqSF1dXWRnZ0fl5eVERBQTE0PvvPPOoNtraiKaMYMoIICod0V05swZ8vLyohdeeIE6OjqEr6+q0tA77xBNmUJkbU2kUOgOHDQ06ALyxhtEcXG6ZXsDsm4dUXm57mvatEGXbpSM9kRhcHAwNBoNvvvuOwDAli1b8O9//xu2trbD2k/vjTLb2tr0txoYyTPNtra2CAwM1J+8W7Ro0aDf46VLgEKhGwhZXg7I5cCxY8CaNTK88EIc9u3bB3t7e2EbwcHWePdd4Px54OJFQKkEcnKA3vOvDxqqX1enmwh25AhgdpcPljqhIkFBQfTJJ58YtI/7j149//zz9NZbbxm0z/u9/vrrtHTp0iG3c+MGUUoKUe9K9sAB3QUg+pw2GjStVrcGyc0lunWLKDiYKDDQ/DexjHYNAozMsIj7b5Q50kMxNBoNGhoaUFlZqb+s6LVr1wbVloeHbp6JrS3w2WfAkiVAejqwefPQ67SyuvddiqH6kpE6oSKZmZnk5+dn8H6Sk5P1R6+OHj1Kjo6OQz7rPxCdnZ2kVCppwoQJtGvXLnrrrbfI19eXZDIZhYeHU0ZGBjU0/O/9oQcdVSIi2ryZyM6OSKUy8BuwAEYdkLNnz5KVldVvLo423Pbu3UsTJ04kIt15FplMRqdPnzZony0tLTRv3jzy9fXVH2nqVVdXR5s3byaFQkHh4bU0bZruellnz/Zv40FHldrbiRYsIPr2W4OWbzGMOiBarZbGjRtHhw4dMmg/P/30U7+jVwEBAbR161aD9dfYSKRQdFNs7Fr65ZdfhMteuKCh994jmjVLNywlIEAXlrq6Bx9VYsPLqPdBrKysEBwcbPB9gkmTJkEul+PUqVMADLsfcukSEB4O2NvbYNeuzXB3dxcuP3myNVJTgVOngPp64NVXgZoa4NNPdc9LcQEIQHeE6+zZke1TCkYdEGDkdppfe+01jBs3zqB91tQAoaG6r0OHAGfnR3u9tzeQmKgLQ29AAGkuAPH3v+suYWTuTCYgZOCZwampqXj66acB6GYrdnR06K9aeOHChWHpw9VVtwbYuRMY6oxfqY8qhYToLnRn9qTexnuYGzduEAC6ePGiwfvSarWUlpZGjo6OtHXrVvrb3/5GQUFBBICCgoJo06ZNdPbseWEbljJe6fx53T7RQ3ahTJ7RB4SIyMfHh3YZ+L+qp6eH/vSnP9G4ceOo7L5ZSz/99JP+/hvz5q0iHx+ipCSi0lLdCbS+LGW8klZLNG4cUWGh1JUYltFvYgG/3Sf4/PPPUVJSAs0wTeJub29HbGwsCgsLUVJSAoVC0e/5SZMm6a+1lZ29FcnJgFqt20H28QFSUnRDO3r98Y9AUlL/Pi5c0F1i9MQJ8xiOYWUFzJpl/ptZJhmQo0ePIjIyEnK5HImJiSgqKsLdu3cH1XZLSwsWLFiAy5cvo7KyEgEBAcLl5XJrvPKKbtzR9evAxo3Azz8DaWn3lrGU8UrPPnsQavX/SV2GYUm9ChuIioqKfkPCifrPUHRxcXmkGYq9GhsbKSAggEJCQh56PuJheje1LGm8UkFBAbm6upr1bd5MYg0SFBSEiIgIBAUFITU1FWVlZbC3t9dfyuf69etQqVSYMGEC3n77bfzud7/TP9fa2vrANs+ePYvQ0FA89thjOHbs2EPPRzxM71Gl3p8tYbxSaGgoWlpazPsuu1IndKAaGxspPT2d5s2bRzKZjJ544gl6++23qbKyst8n2INmKL722mv92qqsrCR3d3f6wx/+MCJjrsyZr68v7eydVG+GTCYgfd28eZOysrIoOjqabG1tycPDQ3+1lLt37+qX652h2HeoSl5eHjk6OtLatWvNetNgpKxYsYJeeeUVqcswGJMMSF8tLS36SwuNHj2aXF1d9WHp7Ozst2xWVhbZ2trSRx99JFG15mf//v0UGBhIiYmJVFRU1O8DyhyY9MWr79fR0YEjR45ApVIhLy8P3d3deOaZZ6BUKtHU1IT169djx44dWLZsmdSlmpX9+/dDpVKhsLAQNjY2iI6ORlxcHBYuXAgHBwepyxsSswpIXxqNBhUVFVCpVMjOzoajoyO2b9+OiIgIqUszW11dXSgtLUV+fj727t2L27dvIyIiAkqlErGxsXBxcRG+/uTJk7CxscHMmTNHqOIBkHYFNjJ655UM9VAuG7ienh4qLS2lpKQk8vLyIhsbG/393K9du/bA16xdu5ZsbGzoscceozVr1lBpaSlpNJoRrrw/iwiIVqslNzc3+uqrr6QuxSL1vbSQn58fyWQyfVjuv4JMc3MzZWVlkVKpJCcnJ3J3dx/05WqHg9luYt0vMjISs2fPxsaNG6UuxeLV1tYiJycHOTk5aG1txaRJkxAXF4e4uDj4+Pjol2tvb8c333wDlUqF3NxcyGQyREdHIyYmBlFRUXBycjJ4rRYTkA0bNqCyshJFRUVSl8L6+P7777Fv3z7k5OSgtrYWgYGB+rD4+/vrl+vo6MDhw4eRk5ODgoIC9PT0ICoqCrt374aNjY3B6rOYgBw6dAgrVqzArVu3LP5ehcaqoaEBBw4cQEFBAY4fPw5vb2/ExMRAqVRCoVDA6r/DFbq7u3H06FFUVVXhL3/5i0FrspiANDc3w93dHefOncOUKVOkLof1cenSJTg7O8PDw0P/2M2bN1FYWAiVSoWvv/4anp6eiIyMRHR0NCIjIw261ujLYj5KXV1d4evry7cfM0Iff/wxJkyYgPnz52PLli24cuUK3N3d9feYbGpqwqZNm9DS0oLly5fr7zGZn58/6FHcA2UxaxAAiI+Px5gxY/Bp3wndzCio1WqoVCoUFBSgpqYG06ZNg1KpxLJly/Dkk0/ql7tz5w4KCwuRk5ODwsJCvPzyy3j//fcNVpdFBeSTTz7Bjh07UF1dLXUpTODy5cvIy8uDSqXCiRMnMHXqVMTExCA6Ohpz587VL9fZ2Yn29na4uroarBaLCkhVVRUUCgV+/fVXODo6Sl0OG4D6+nocOHAAOTk5KC8vh6+vL+Li4rBx40bY2dkZvH+LCkh3dzdcXFxQXFz8m2m1zPg1NTUhNzcX5eXl2Llz54j0aVEBAYCwsDAolUokJydLXQozARZzFKtXaGgoH8liA2ZxARnp2xsw02aRAamvr8fVq1elLoWZAIsLSGdnJ6ZPn4729napS2EmwKICUllZiaeeegozZszA448/LnU5zARYTECOHDmCBQsWYOXKldi+fTtkMpnUJTETYBEB2b17N5577jmsW7cOGRkZPJqXDdjIDImU0gcfAEVFyMzMxIoVK6SuhpkY8z1RSASkpuruNKNSAZGRUlfETJB5rkF6eoDVq4GDB4HiYiAsTOqKmIkyjYDU1ABOTkDvsOfdu4EXX9Q9fvAgYG8PLF0KPPEE0NYGKJXAuXO6ew3w5Cg2BKaxt3rsGNB3iPqHHwK1tbobcfj7A25uQFQU8MsvgFYLeHhwONiwMI01CHDvDjSAbhNKpQLefBPovUrilStAUREQHw9kZUlXJzMrphOQujqgdx5yT4/uPsTLl9973tcXuHZNmtqY2TKNTSwAiIsD1q/Xfdnb645K9d7CSaMB8vKA6Ghpa2Rmx3QCcr/Fi4HCQmD2bGDaNMDLS/edsWFk+udBrl/XHeEaPVrqSpgZMv2AMGZApruJxdgI4IAwJsABYUyAA8KYAAeEMQEOCGMCHBDGBDggjAlwQBgT4IAwJsABYUyAA8KYAAeEMQEOCGMCHBDGBDggjAlwQBgT4IAwJsABYUyAA8KYAAeEMQEOCGMCHBDGBDggjAlwQBgT4IAwJsABYUyAA8KYAAeEMQEOCGMCHBDGBDggjAlwQBgT4IAwJsABYUyAA8KYAAeEMQEOCGMCHBDGBDggjAlwQBgT4IAwJsABYUyAA8KYAAeEMQEOCGMCHBDGBDggjAlwQBgT4IAwJsABYUyAA8KYAAeEMYH/B7Ai9X4G+AY9AAAAAElFTkSuQmCC\" alt=\"Mol\"/></td>\n",
       "    </tr>\n",
       "    <tr>\n",
       "      <th>32</th>\n",
       "      <td>C#CCNc(n1)ccnc1Nc(cc2)c(C)c(c2)F</td>\n",
       "      <td>mol_33</td>\n",
       "      <td>None</td>\n",
       "      <td>36.05</td>\n",
       "      <td>Scaffold_05</td>\n",
       "      <td>synscreen</td>\n",
       "      <td>50</td>\n",
       "      <td>32</td>\n",
       "      <td><img data-content=\"rdkit/molecule\" src=\"data:image/png;base64,iVBORw0KGgoAAAANSUhEUgAAAMgAAADICAYAAACtWK6eAAAUnElEQVR4nO3de1TUdf7H8degIjcBMVKwJFFSCd1YlZjkLK6Ahs0Yq+Ke8la22rKno667JbuZHjsdrdwttnQ1XRV03S3QRIZATFdX+amoeCEQBW8sdVSUi4iAyvD+/TFJkvZJcWa+CK/HOZ3D5Tvfz2c8PZn5XkcnIgIiuisHrSdA1JoxECIFBkKkwECIFBgIkQIDIVJgIEQKDIRIgYEQKTAQIgUGQqTAQIgUGAiRAgMhUmAgRAoMhEiBgRApMBAiBQZCpMBAiBQYCJECAyFSYCBECgyESIGBECkwECIFBkKkwECIFBgIkQIDIVJgIEQKDIRIgYEQKTAQIgUGQqTAQIgUGAiRAgMhUmAgRAoMhEiBgRApMBAiBQZCpMBAiBQYCJECAyFSYCBECgyESIGBECkwECIFBkKkwECIFBgIkQIDIVJgIEQKDIRIgYEQKTAQIgUGQqTAQIgUGAiRAgMhUmAgRAoMhEiBgRApMBAiBQbSSpnNZpw/fx4NDQ1aT6VdYyCtUG1tLWJiYhAVFYXu3btj6tSp2Lx5M2pra7WeWrvDQFqZqqoqjBo1CqdPn8bmzZuRmJgIJycnxMXFoVu3bjAajVi5ciUuXryo9VTbBZ2IiNaTIIsLFy4gOjoanTp1QkZGBh555JGm35nNZuzbtw/p6enYtGkTzp49i9DQUBiNRowdOxYBAQEazrztYiCtxNmzZzFy5Ej4+flh8+bN6NKlCwBg/fr1iIyMhI+PT7PlCwoKkJKSgvT0dOTm5iIwMBCxsbEwGo0YPHiwFk+hbRLS3OHDIgbDXnnxxRfl+vXrTT+/fPmyBAQEiIODg+j1enn//felqKjojscXFRXJ+++/L3q9XhwcHCQgIEDefPNN2bdvnz2fRpvEQDS2a5eIh4fI66+LmM2Nd13m9OnTkpCQIMOGDROdTif+/v4yc+ZM2bNnjzQ2Nn/MpUuXJCkpSQwGgzz11FPyn//8xw7Pou3iWywNmUzAr38NzJwJvPfevT2mtLQUmZmZMJlMyMrKQo8ePRAdHQ2DwYBRo0bB0dGxadmpU6fCyckJn376qY2eQTugdaHt1bp1Io6OIh9+2PJ1XL58WRITEyUmJkZcXFzEy8tLpkyZIt9++62IiKxYsUIGDhxopRm3T3wFsbGDB4ErV4DISMv3n38O9OkDhIUBSUmWVxBrqK2tRVZWFkwmEz7++GO4ubkhLy8PwcHBqKiogIeHh3UGamcYiI0tXmx5+3T8ONCzJ/Dss8DevcCpU0DfvrYdu7GxEV27dsWmTZsQeatQui88UGgH06ZZtjNuZ+s4AMDBwQFDhw7Fvn37bD9YG8VA7OCXvwQ8PCwb5fam1+sZyAN46AKpr6/HyZMnYTabtZ7KffnLX4B33gHq6uw7bmhoKPbt24fGxkb7DtxGPFSBnDp1CkFBQQgLC0OPHj0wbdo0pKWloc7e/9fdJ50O8PICfv974OpV+44dGhqKK1euoKioyL4DtxEPTSD5+fkIDw/HoEGDUFxcjDVr1qBTp06YPn16s5P4ysrKtJ5qM3/6E2A0Wr5+6SXLxrk9devWDQEBAXyb1VLa7mW+N//973/Fw8NDfve734nZbG72u4aGBtmzZ4/MnDlTHnvsMenQoYMMGzZMEhISpLS0VKMZty5Tp06V6dOnaz2Nh1KrDyQtLU2cnZ1l7ty5TT/buXOn1NfX33X5/Px8WbBggQQGBgoACQwMlAULFsihQ4fsNeVWZ8WKFRIUFKT1NB5KrTqQdevWiaOjo3x42+Hmf/zjH+Lo6Chbt279yccfP35cFi1aJEOHDhWdTif9+/eX+Ph4OXbsmC2n/aNmzxZZvNjydVWVyEcfiTQ02H7cY8eOiYODg1RVVdl+sDam1QaSkJAgnTt3ln//+993/Oyzzz677/WVlpbK0qVLJTIyUkJDQ+96VqytLVggMnKk5evqapEOHUSOHrX9uGazWdzd3WXbtm22H6yNaXWBNDY2yty5c8XV1VUyMzObfvbGG2+Iq6vrPb1y/JSgoCBZsWLFA6/nfm3dKuLuLnJrM2rgQJHly+0zdkREhCxcuNA+g7UhrWovltlsxowZM7By5Ups27YNzz33HMxmM6ZPn47Vq1fjq6++wqhRo1q07nPnzqGyshKAdgfPnnkGqKkBCgvx3TyA/fttN96yZctw9OjR78biAcMW0brQW+rr62XcuHHi4+MjeXl5TT8bO3as+Pr6ytdff/1A6w8MDJRVq1aJiMiaNWukX79+Dzznls1DZOVKy9dr14o8+aRtxpk3b564uLhIRkaGiIikp6eLu7s7t0PuU6t4BampqYHBYEBBQQH279+PgQMHoqqqClFRUSgsLMT+/fsRFBT0QGPcOqIMWP6aFhUV4fLly9aY/n3R64GjRy2vZM8+exmdOj1j1XmYzWbExcVh6dKlyMrKQnR0NMxmMzZu3AgvLy90794dzz//PFatWsUbP9wLrQu9cOGCBAcHy5AhQ6SsrExERM6fPy9PP/20DB06VC5dumSVcVatWiUDBgwQEcs2jZeXl3z55ZdWWff9WL06sdk8HnnkEUlPT7fKuuvrRV55ZW6zV+Hr16/LhAkTpEePHnL48GHZvXu3zJkzR/z9/cXBwUHCwsJkyZIlcvr0lR9d74EDIl999f33n30mcuiQSGHh9z9bv94qT6HV0TyQiIgIiYyMlKtXr4qIyJkzZ6Rv374yYsQIqa6utto4+fn5otPppLy8XEREoqOjZd68eVZb/70qKChoNo/Ro0fLW2+99cDrra4WiYgQGTHiipw5c0ZERK5evSojR44Uf39/KS4uvuMxx44dk4ULF0pIyDPi6npVBg4Uefttkdzc5sstWmTZufDNN5bv9XqRJUuaRzFo0AM/hVZJ07dYNTU12LVrF9599124ubmhuLgYer0eQ4YMQWZmZtOdPawhMDAQnp6eOHDgAADtNloHDBhwxzz27t37QOusqABGjQIuXgTWr3dH7969UVFRgaioKJw/fx579uxB37ucXz9o0CDMnz8fOTn7kZ/vhmnTgN27gZAQ4IkngNmzgVv/RHc7Zb+oyHJty969QFu9AaSmgbi5uWHgwIE4dOgQAMDPzw/z58/Hhg0bml1bbQ06na7ZtRF6vR4HDhyw+1nBd5tHVVVVi9f3v/9ZLsJydASyswFfX6CkBHjllRq4uXkiOzsbvr6+P7meW0Hs2gVcuADMnw+cPQskJ1t+f7dT9vPzge3bLf+11UA0f4sVFxcnkyZNsstYCxYskKioKBERqa6ulg4dOmhyVP32eTyozEyR8eNF6uos3+fni/TsKfKrX1m2Saxh0SKRLVtEystFhgwRefppvsWyG3u+1dHr9cjJyUFjYyO6dOmCwMBATd5meXh44Ny5c5g3bx4OHToEeYCrnp97DkhJAZycLNe/Dx8ORERY/vJ37my9OWt5yr6mtC60uLhYAMiFCxdsPlZlZaU4ODhIfn6+iIjMmDFDpk6davNxb7dp0yZxcnKSKVOmyIgRI6Rjx47y+OOPy+uvvy7bt2+Xmzdvtmi927eLdOkiMnOmSOPdb69FLaB5II2NjeLt7S1btmyxy3g/PGD4pK2O1N1FYmKidO7cudlpLj+8dc+jj/rKq682yBdfiFy7duc67rbLtaxMxM1N5K9/tcOTaGc0D0RExGAwSHx8vF3GevXVV2XatGkiIlJYWCg6nc5qx1pUPvkkRzp37iwpKSk/usy1a9fEZPo/mTJFxMtLxNlZJCZGJDFR5PJlyzJ32+UqIlJSYuMn0E5pvg0C2Hc75PYj6v369YOXlxdycnJsNp4IMGcO8NZbIcjKOoLx48f/6LIuLi4wGJ5FUpJll216OvD448DbbwPduwOLFlmWu9su1169bPYUmjlzBsjIsM9YrUGrCeTgwYN2+TQlvV6PEydOoKKiAjqdDiEhITaL02wGfvMbyw3isrKA8PAB9/zYjh2BESOAjz+27LbNyQHGjLH8Tsu7pOTkAHFx9h9XK60ikJCQENy4cQN5eXk2H2vAgAH44osv4OzsDAAYMmQIduzYgZqaGquPNX48sGOH5UBaaGjL16PTAYMHA7efjqbVXVL0esuxl2+/te+4WmkVgbi6uiIoKMgub7McHBwQExMDZ2dnlJWVITU1FRcvXoS3tzeMRiNWr16NS5cuWWWsl1+2HLzr188qq2ui5S7XJ56wHIy05Wn6rUmrCASwvPXZb8d/9ZKSEvziF79At27dkJubi61bt6Jv375499134ePjg/DwcCQk/A3nzv34Og4etBxFvuXzz4HcXODECcv3L7xgOTJtTVrfJQWwXNfCQOzMnhvqx48fR1hYGPr374+MjAx07doV4eHh+Oijj3D27FkcPHgQw4cPx44duejdGwgOBhYuBI4da76e7duBceO+f7vxt78BO3cC3505AwBYssQuT8muQkO/P0errWtVgZw+fbrpGoXa2lr8/e9/xzfffGPVcQ4cOIDw8HBERERg48aNTdsitwsODsbChQthMq3D6dPApEmWGH7+c8ud2f/wB8t5SED7PIkvLKwSnTsn48aNG1pPxeZaTSB9+vSBt7d30y7XkpISfPLJJ+jVqxdCQkKwePFiFN66VrWFduzYgcjISLz00ktYu3YtOnbs+JOP8fe3BLFnD3D+PBAfb3kLdSuQ9ngSX3CwE7KzJzddztumaX0g5nZGo/GOA4a3f/yYg4NDs48f++FN5FQ2bNggjo6O8sEHH1htvu35JL4hQ4ZIQkKC1tOwuVbzCgJY9mZlZmZi/vz5OHz4MADA398fs2bNQnZ2Ni5cuIAFCxbgzJkziIiIQI8ePTBlyhSYTCbly/2yZcvw8ssvY/ny5XjjjTesOuf2ehJfu7kJhNaFiljOx5o9e7Z06dJFZs+eLeHh4dKhQwfx8/OTWbNmyc6dO6XhB3dYq6iokH/+858ybtw4cXV1FU9PT5k4caLU1NQ0W+69994TJycn2bRpkz2fUpv3r3/9S3r16qX1NGxO80AaGhpk2rRp4uXl1exji8vLyyUpKUliY2PFzc1NvLy8ZPLkyZKcnNx0ee4ttbW1kpaWJn/84x+brfe3v/2teHp6yu7du+32fNqLs2fPCgA5ePCg1lOxKU0DuXbtmjz//PPi5+cnJ06c+NHlbgUwY8YMefTRR8XZ2VkMBoN8+umncvHixTuWv/1GBUeOHLHhM2jf5syZIzqdToYOHSqLFi2S48ePaz0lq9MskCsNDRL72mvy1FNPyTe3Tk29Bz91N/eamhoZNWqU9O7d+643KiDrUn2G+/3sRGmtNAmk7MYN+XVBgczOy2u6u0dLNDY2Sk5OjsTHx0v//v1Fp9NJUFCQDBo0yC4XYFFzZWVlkpSUJAaDQRwdHcXb21smT54saWlpcv36deVjjx49KrGxsbJhw4ZWdXM7uwfybX29xHz9tcSdPCnXrHxr88LCQvH19ZWVt25dSJqprKyU5ORkmTx5sri7u4urq6sYDAZJSkqSK1fuvAfXyZMn5bXXXhMfHx9xdHSUkSNHyvLly5s+810rdv0Y6NN1dXi9uBg/79IFC594Ah11OquPMXHiRHTt2hVLly61+rqpZerq6rB9+3akpqYiLS0NNTU1iIyMRExMDMaMGQNvb+9myxcUFCAlJQXJyckoLCxEYGAgYmNjMWHCBAQGBtp17jYJ5FRdHQ5UVzd9/4y7O66azZh16hQM3brhD48/brND+EuXLsXatWuRm5troxHoQZjNZmRnZyM1NRUmkwlXrlyBn58fDAYDXnzxRfT7wanPZ86cgclkQkpKCvbu3YvevXvDYDAgNjYWw4YNg84Gf2RvZ5NAvrh0CUV1dXjWwwMA8KSzM8wi2FlVhUndu1t7uGZyc3MRGhqKyspKuLm52XQsenAFBQVIT0+HyWTC3r17MWDAABiNRhgMhjsCKC0txZYtW7B582bs3r0bAQEBKCgosGkkNgvk8s2bGOnlBQDwc3KCbTv/3s2bN+Hp6YmMjAyEh4fbaVSyhpKSEqSmpiI9PR27du1Cz5498cILL8BoNGL48OHNzp2rqKhAXl4ehg8fbtM52SyQbZWVCPjuTNnZjz2GDjZ+KbxdeHg4oqOjER8fb7cxqWUqKipQXFyMkJCQZq8E5eXl+PLLL5Geno6MjAw4OTlh9OjRMBqNGD16NFxdXe0zQVts+W8qK5ON392pXQtvvvmmjBkzRrPx6d6ZTCbp1KmT+Pr6SlxcnGzbtk1u3LjRbJlr165JWlqaTJ48WTw8PMTFxaVpj1hlZaVN52ezkxXt93pxJ3tfnUgtZzAYUFZWhoSEBNTU1GD8+PHo2rUrjEYj1q1bh+rqari4uDR9X15ejqysLPj7++PPf/4zPvjgA5vOz667ee2lrKwM3bt3x6lTp9CnTx+tp0P3ob6+HtnZ2TCZTEhOTkZVVRXCwsJgMBgwYcIE+Pj4NC3b2NiI+vp6uLi42Gw+bTIQwHKa/DvvvINJkyZpPRVqodt3CaempqK0tBTDhg3D2LFjMWvWLLvMoc0GMnHiRHh6emLZsmVaT4Ws5MiRI0hNTUVJSQkSExPtMuZPX3P6kNLr9VizZo3W0yArCg4ORnBwsF3HbFVXFFqTXq9HXl6eTW4IR+1Hmw3kZz/7GZycnJo+vYqoJdpsIB07dsTgwYPbx3XTZDNtNhCgHd1YgGymzW6kA0BUVBRqa2u1ngY9xNrsbl4ia2jTb7GIHhQDIVJgIEQKDIRIgYEQKTAQIgUGQqTAQIgUGAiRAgMhUmAgRAoMhEiBgRApMBAiBQZCpMBAiBQYCJECAyFSYCBECgyESIGBECkwECIFBkKkwECIFBgIkQIDIVJgIEQKDIRIgYEQKTAQIgUGQqTAQIgUGAiRAgMhUmAgRAoMhEiBgRApMBAiBQZCpMBAiBQYCJECAyFSYCBECgyESIGBECkwECIFBkKkwECIFBgIkQIDIVJgIEQKDIRIgYEQKTAQIgUGQqTAQIgUGAiRAgMhUmAgRAoMhEiBgRApMBAiBQZCpMBAiBQYCJECAyFSYCBECv8P8JYqVJDBDXQAAAAASUVORK5CYII=\" alt=\"Mol\"/></td>\n",
       "    </tr>\n",
       "    <tr>\n",
       "      <th>33</th>\n",
       "      <td>C#CCNc(n1)ncc(C)c1Nc(cc2C)c(O)cc2</td>\n",
       "      <td>mol_34</td>\n",
       "      <td>None</td>\n",
       "      <td>45.74</td>\n",
       "      <td>Scaffold_05</td>\n",
       "      <td>synscreen</td>\n",
       "      <td>50</td>\n",
       "      <td>33</td>\n",
       "      <td><img data-content=\"rdkit/molecule\" src=\"data:image/png;base64,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\" alt=\"Mol\"/></td>\n",
       "    </tr>\n",
       "  </tbody>\n",
       "</table>\n",
       "</div>"
      ],
      "text/plain": [
       "                                Smiles mol_name cdk2_ic50 cdk2_inhib  \\\n",
       "29    C#CCNc(cc1)nc(n1)NC(C)(C)C(=O)OC   mol_30      None      53.17   \n",
       "30  C#CCNc(n1)c(C)cnc1Nc(cc2C)c(Cl)cc2   mol_31      None      54.76   \n",
       "31  C#CCNc(n1)cc(C)nc1Nc(cc2)c(CO)cc2C   mol_32      None      36.15   \n",
       "32    C#CCNc(n1)ccnc1Nc(cc2)c(C)c(c2)F   mol_33      None      36.05   \n",
       "33   C#CCNc(n1)ncc(C)c1Nc(cc2C)c(O)cc2   mol_34      None      45.74   \n",
       "\n",
       "       scaffold sourcepool  cdk_act_bin_1  ID  \\\n",
       "29  Scaffold_05  synscreen            100  29   \n",
       "30  Scaffold_05  synscreen            100  30   \n",
       "31  Scaffold_05  synscreen             50  31   \n",
       "32  Scaffold_05  synscreen             50  32   \n",
       "33  Scaffold_05  synscreen             50  33   \n",
       "\n",
       "                                             Molecule  \n",
       "29  <img data-content=\"rdkit/molecule\" src=\"data:i...  \n",
       "30  <img data-content=\"rdkit/molecule\" src=\"data:i...  \n",
       "31  <img data-content=\"rdkit/molecule\" src=\"data:i...  \n",
       "32  <img data-content=\"rdkit/molecule\" src=\"data:i...  \n",
       "33  <img data-content=\"rdkit/molecule\" src=\"data:i...  "
      ]
     },
     "execution_count": 7,
     "metadata": {},
     "output_type": "execute_result"
    }
   ],
   "source": [
    "synscreen = df.loc[df.sourcepool=='synscreen']\n",
    "PandasTools.AddMoleculeColumnToFrame(synscreen,'Smiles','Molecule')\n",
    "synscreen=synscreen.loc[synscreen['Molecule'].map(lambda x: x is not None)]\n",
    "synscreen.head()"
   ]
  },
  {
   "cell_type": "code",
   "execution_count": null,
   "metadata": {},
   "outputs": [],
   "source": [
    "len(synscreen.loc[synscreen['cdk2_inhib'].map(lambda x: x=='None')])"
   ]
  },
  {
   "cell_type": "code",
   "execution_count": null,
   "metadata": {},
   "outputs": [],
   "source": [
    "len(synscreen)"
   ]
  },
  {
   "cell_type": "markdown",
   "metadata": {},
   "source": [
    "Sort out all series (scaffold and assigned molecules) below the size limit"
   ]
  },
  {
   "cell_type": "code",
   "execution_count": null,
   "metadata": {},
   "outputs": [],
   "source": [
    "sizelimit=20\n",
    "scafs=list(set(synscreen['scaffold'].tolist()))\n",
    "scafs.sort()\n",
    "scafs_sel=[s for s in scafs if synscreen['Molecule'].loc[synscreen['scaffold']==s].count()>=sizelimit]\n",
    "synscreen_sel=synscreen.loc[synscreen['scaffold'].map(lambda x: x in scafs_sel)]"
   ]
  },
  {
   "cell_type": "markdown",
   "metadata": {},
   "source": [
    "### Load and prepare ChEMBL25 database"
   ]
  },
  {
   "cell_type": "code",
   "execution_count": null,
   "metadata": {},
   "outputs": [],
   "source": [
    "if not os.path.isdir('./arthor/'.format(proj)):\n",
    "    os.mkdir('./arthor/'.format(proj))"
   ]
  },
  {
   "cell_type": "code",
   "execution_count": null,
   "metadata": {},
   "outputs": [],
   "source": [
    "os.system('smi2atdb -j 0 -t ./chembl_25.smi ./arthor/chembl_25.atdb')\n",
    "os.system('atdb2fp -j 0 ./arthor/chembl_25.atdb')"
   ]
  },
  {
   "cell_type": "code",
   "execution_count": null,
   "metadata": {},
   "outputs": [],
   "source": [
    "chembldb=arthor.SubDb('./arthor/chembl_25.atdb')\n",
    "Nchembl=len(chembldb.search('*'))\n",
    "print(Nchembl)"
   ]
  },
  {
   "cell_type": "markdown",
   "metadata": {},
   "source": [
    "### Calculate MCS from original series assignment by Bradley et al. "
   ]
  },
  {
   "cell_type": "markdown",
   "metadata": {},
   "source": [
    "Note that forig and fsampled corresponds to the expected match probabilities E(p) as described in the paper"
   ]
  },
  {
   "cell_type": "code",
   "execution_count": null,
   "metadata": {},
   "outputs": [],
   "source": [
    "MCSorig=[]\n",
    "forig=[]\n",
    "assignedmols=[]\n",
    "Nmolsorig=[]\n",
    "for scaf in scafs_sel:\n",
    "    mollist=synscreen['Molecule'].loc[synscreen['scaffold']==scaf].tolist()\n",
    "    fChembl,MCS=utilsStructureEval.MCSFromMollist(mollist,chembldb,Nchembl)\n",
    "    forig.append(fChembl)\n",
    "    assignedmols.append(synscreen['ID'].loc[synscreen['scaffold']==scaf].tolist())\n",
    "    Nmolsorig.append(len(synscreen['ID'].loc[synscreen['scaffold']==scaf].tolist()))\n",
    "    MCSorig.append(MCS)"
   ]
  },
  {
   "cell_type": "code",
   "execution_count": null,
   "metadata": {},
   "outputs": [],
   "source": [
    "def renderMCS(series,scafslist,MCSList,fChemblList):\n",
    "    listid=np.where(np.array(scafslist)==series)[0][0]\n",
    "    svg=utilsDrawing.moltosvg(Chem.MolFromSmarts(MCSList[listid]), molSize=(450,250))\n",
    "    label='{0}, {1:.2E}'.format(scafslist[listid],fChemblList[listid])\n",
    "    svgGrid = utilsDrawing.SvgsToGrid([svg], labels=[label], svgsPerRow=1, molSize=(450,250))\n",
    "    \n",
    "    return(display(SVG(svgGrid)))"
   ]
  },
  {
   "cell_type": "code",
   "execution_count": null,
   "metadata": {},
   "outputs": [],
   "source": [
    "interact(renderMCS, series=scafs_sel, scafslist=fixed(scafs_sel), MCSList=fixed(MCSorig),fChemblList=fixed(forig));"
   ]
  },
  {
   "cell_type": "markdown",
   "metadata": {},
   "source": [
    "### Determine MCS from sampling"
   ]
  },
  {
   "cell_type": "code",
   "execution_count": null,
   "metadata": {},
   "outputs": [],
   "source": [
    "Nsample=100\n",
    "frac_sample=0.8\n",
    "inv_sample=1/frac_sample"
   ]
  },
  {
   "cell_type": "code",
   "execution_count": null,
   "metadata": {},
   "outputs": [],
   "source": [
    "MCSsampled=[]\n",
    "fsampled=[]\n",
    "\n",
    "for scaf in scafs_sel:\n",
    "    fi=[]\n",
    "    MCSi=[]\n",
    "    samplerange=synscreen['ID'].loc[synscreen['scaffold']==scaf].tolist()\n",
    "    for i in range(Nsample):\n",
    "        random.seed(i+1)\n",
    "        molinds=random.sample(population=samplerange,k=int(len(samplerange)//inv_sample))\n",
    "        samplemols=synscreen['Molecule'].loc[synscreen['ID'].map(lambda x: x in molinds)].tolist()\n",
    "        fChembl,MCS=utilsStructureEval.MCSFromMollist(samplemols,chembldb,Nchembl)\n",
    "        fi.append(fChembl)\n",
    "        MCSi.append(MCS)\n",
    "    ind=np.argmin(np.array(fi))\n",
    "    fsampled.append(fi[ind])\n",
    "    MCSsampled.append(MCSi[ind])"
   ]
  },
  {
   "cell_type": "code",
   "execution_count": null,
   "metadata": {},
   "outputs": [],
   "source": [
    "interact(renderMCS, series=scafs_sel, scafslist=fixed(scafs_sel), MCSList=fixed(MCSsampled),fChemblList=fixed(fsampled));"
   ]
  },
  {
   "cell_type": "markdown",
   "metadata": {},
   "source": [
    "### Assign molecules to \"sampled\" MCS"
   ]
  },
  {
   "cell_type": "code",
   "execution_count": null,
   "metadata": {},
   "outputs": [],
   "source": [
    "df_arthor=synscreen_sel[['Smiles','ID']]\n",
    "df_arthor.to_csv('./arthor/{0}.smi'.format(proj), header=None, index=None, sep=' ')\n",
    "os.system('smi2atdb -j 0 -t ./arthor/{0}.smi ./arthor/{0}.atdb'.format(proj))\n",
    "os.system('atdb2fp -j 0 ./arthor/{0}.atdb'.format(proj))\n",
    "proj_db=arthor.SubDb('./arthor/{0}.atdb'.format(proj))\n",
    "\n",
    "matches=[]\n",
    "Nmolssampled=[]\n",
    "synscreen_sel['series assignment'] = [list() for x in range(len(synscreen_sel.index))]\n",
    "for ind in range(len(scafs_sel)):\n",
    "    res=proj_db.search(MCSsampled[ind])\n",
    "    reslist=[int(r.decode('utf-8')) for r in res]\n",
    "    synscreen_sel['series assignment'].loc[synscreen_sel['ID'].map(lambda x: x in reslist)].apply(lambda x : x.append(scafs_sel[ind]))\n",
    "    matches.append(reslist)\n",
    "    Nmolssampled.append(len(reslist))"
   ]
  },
  {
   "cell_type": "code",
   "execution_count": null,
   "metadata": {},
   "outputs": [],
   "source": [
    "df_scafs=pd.DataFrame({'ScafName':scafs_sel,'MCSorig':MCSorig,'forig':forig,'mols orig':assignedmols,'N orig':Nmolsorig,'MCSsampled':MCSsampled,'fsampled':fsampled,'mols sampled':matches,'N sampled':Nmolssampled})"
   ]
  },
  {
   "cell_type": "markdown",
   "metadata": {},
   "source": [
    "### Calculate precision and recall of \"sampled\" series w.r.t. original series"
   ]
  },
  {
   "cell_type": "code",
   "execution_count": null,
   "metadata": {},
   "outputs": [],
   "source": [
    "recall=[]\n",
    "precision=[]\n",
    "for i in range(len(matches)):\n",
    "    intersect=list(set(matches[i])&set(assignedmols[i]))\n",
    "    recall.append(len(intersect)/len(assignedmols[i]))\n",
    "    precision.append(len(intersect)/len(matches[i]))\n",
    "    \n",
    "df_scafs['recall']=recall\n",
    "df_scafs['precision']=precision\n"
   ]
  },
  {
   "cell_type": "markdown",
   "metadata": {},
   "source": [
    "### save series data and mol data"
   ]
  },
  {
   "cell_type": "code",
   "execution_count": null,
   "metadata": {},
   "outputs": [],
   "source": [
    "df_scafs"
   ]
  },
  {
   "cell_type": "code",
   "execution_count": null,
   "metadata": {},
   "outputs": [],
   "source": [
    "synscreen_sel.head()"
   ]
  },
  {
   "cell_type": "code",
   "execution_count": null,
   "metadata": {},
   "outputs": [],
   "source": [
    "if not os.path.isdir('./{0}/'.format(proj)):\n",
    "    os.mkdir('./{0}/'.format(proj))"
   ]
  },
  {
   "cell_type": "code",
   "execution_count": null,
   "metadata": {},
   "outputs": [],
   "source": [
    "df_scafs.to_csv('./{0}/seriesdata.csv'.format(proj))"
   ]
  },
  {
   "cell_type": "markdown",
   "metadata": {},
   "source": [
    "Fro Butina clustering: prepare \"assay\" column. Higher activity has to correspond to lower values. Here 'cdk2_inib' chosen as relevant assay."
   ]
  },
  {
   "cell_type": "code",
   "execution_count": null,
   "metadata": {},
   "outputs": [],
   "source": [
    "mininhib=min(synscreen_sel['cdk2_inhib'].loc[synscreen_sel['cdk2_inhib']!='None'].tolist())\n",
    "synscreen_sel=synscreen_sel.replace({'cdk2_inhib':'None'},mininhib)\n",
    "synscreen_sel['assay']=synscreen_sel['cdk2_inhib'].map(lambda x: -x)\n",
    "synscreen_sel.head()"
   ]
  },
  {
   "cell_type": "code",
   "execution_count": null,
   "metadata": {},
   "outputs": [],
   "source": [
    "synscreen_sel[['ID','Smiles','mol_name','scaffold','series assignment','assay']].to_csv('./{0}/moldata_preprocessed.csv'.format(proj))"
   ]
  },
  {
   "cell_type": "code",
   "execution_count": null,
   "metadata": {},
   "outputs": [],
   "source": []
  }
 ],
 "metadata": {
  "kernelspec": {
   "display_name": "Python 3",
   "language": "python",
   "name": "python3"
  },
  "language_info": {
   "codemirror_mode": {
    "name": "ipython",
    "version": 3
   },
   "file_extension": ".py",
   "mimetype": "text/x-python",
   "name": "python",
   "nbconvert_exporter": "python",
   "pygments_lexer": "ipython3",
   "version": "3.8.3"
  }
 },
 "nbformat": 4,
 "nbformat_minor": 2
}
